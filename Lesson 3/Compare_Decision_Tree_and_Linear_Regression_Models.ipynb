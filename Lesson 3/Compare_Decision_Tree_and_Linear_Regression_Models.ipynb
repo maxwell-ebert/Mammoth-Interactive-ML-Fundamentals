{
  "nbformat": 4,
  "nbformat_minor": 0,
  "metadata": {
    "colab": {
      "provenance": []
    },
    "kernelspec": {
      "name": "python3",
      "display_name": "Python 3"
    },
    "language_info": {
      "name": "python"
    }
  },
  "cells": [
    {
      "cell_type": "code",
      "execution_count": 2,
      "metadata": {
        "colab": {
          "base_uri": "https://localhost:8080/"
        },
        "id": "Ju1FIYyxUG2M",
        "outputId": "2c3efd4a-3fd8-444c-e688-6b0ac1064c4d"
      },
      "outputs": [
        {
          "output_type": "stream",
          "name": "stdout",
          "text": [
            "[[-0.75275929]\n",
            " [ 2.70428584]\n",
            " [ 1.39196365]\n",
            " [ 0.59195091]\n",
            " [-2.06388816]\n",
            " [-2.06403288]\n",
            " [-2.65149833]\n",
            " [ 2.19705687]\n",
            " [ 0.60669007]\n",
            " [ 1.24843547]\n",
            " [-2.87649303]\n",
            " [ 2.81945911]\n",
            " [ 1.99465584]\n",
            " [-1.72596534]\n",
            " [-1.9090502 ]\n",
            " [-1.89957294]\n",
            " [-1.17454654]\n",
            " [ 0.14853859]\n",
            " [-0.40832989]\n",
            " [-1.25262516]\n",
            " [ 0.67111737]\n",
            " [-2.16303684]\n",
            " [-1.24713211]\n",
            " [-0.80182894]\n",
            " [-0.26358009]\n",
            " [ 1.71105577]\n",
            " [-1.80195731]\n",
            " [ 0.08540663]\n",
            " [ 0.55448741]\n",
            " [-2.72129752]\n",
            " [ 0.64526911]\n",
            " [-1.97685526]\n",
            " [-2.60969044]\n",
            " [ 2.69331322]\n",
            " [ 2.7937922 ]\n",
            " [ 1.85038409]\n",
            " [-1.17231738]\n",
            " [-2.41396732]\n",
            " [ 1.10539816]\n",
            " [-0.35908504]\n",
            " [-2.26777059]\n",
            " [-0.02893854]\n",
            " [-2.79366887]\n",
            " [ 2.45592241]\n",
            " [-1.44732011]\n",
            " [ 0.97513371]\n",
            " [-1.12973354]\n",
            " [ 0.12040813]\n",
            " [ 0.28026168]\n",
            " [-1.89087327]\n",
            " [ 2.81750777]\n",
            " [ 1.65079694]\n",
            " [ 2.63699365]\n",
            " [ 2.3689641 ]\n",
            " [ 0.58739987]\n",
            " [ 2.53124541]\n",
            " [-2.46904499]\n",
            " [-1.82410283]\n",
            " [-2.72863627]\n",
            " [-1.04801802]\n",
            " [-0.66793626]\n",
            " [-1.37190581]\n",
            " [ 1.97242505]\n",
            " [-0.85948004]\n",
            " [-1.31439294]\n",
            " [ 0.2561765 ]\n",
            " [-2.15445465]\n",
            " [ 1.81318188]\n",
            " [-2.55269614]\n",
            " [ 2.92132162]\n",
            " [ 1.63346862]\n",
            " [-1.80770591]\n",
            " [-2.9668673 ]\n",
            " [ 1.89276857]\n",
            " [ 1.24114406]\n",
            " [ 1.37404301]\n",
            " [ 1.62762208]\n",
            " [-2.55573209]\n",
            " [-0.84920563]\n",
            " [-2.30478564]\n",
            " [ 2.17862056]\n",
            " [ 0.73978876]\n",
            " [-1.01461185]\n",
            " [-2.6186499 ]\n",
            " [-1.13410607]\n",
            " [-1.04890007]\n",
            " [ 1.37763707]\n",
            " [ 0.82534483]\n",
            " [ 2.32327646]\n",
            " [-0.16671045]\n",
            " [-2.28243452]\n",
            " [ 1.27946872]\n",
            " [ 1.56471029]\n",
            " [ 0.36766319]\n",
            " [ 1.62580308]\n",
            " [-0.03722642]\n",
            " [ 0.13639698]\n",
            " [-0.43475389]\n",
            " [-2.84748524]\n",
            " [-2.35265144]]\n"
          ]
        }
      ],
      "source": [
        "import numpy\n",
        "\n",
        "def create_data():\n",
        "\n",
        "  random = numpy.random.RandomState(42)\n",
        "\n",
        "  x = random.uniform(-3,3, size = 100)\n",
        "\n",
        "  y_no_randomness = (numpy.sin(3 * x) + x)\n",
        "\n",
        "  y = (y_no_randomness + random.normal(size=len(x))) / 2\n",
        "\n",
        "  return x.reshape(-1,1), y\n",
        "\n",
        "x, y = create_data()\n",
        "\n",
        "print(x)\n"
      ]
    },
    {
      "cell_type": "code",
      "source": [
        "print(y)"
      ],
      "metadata": {
        "colab": {
          "base_uri": "https://localhost:8080/"
        },
        "id": "SE25Te-8U0Na",
        "outputId": "93215dba-b13b-48a6-a727-3140fe435485"
      },
      "execution_count": 4,
      "outputs": [
        {
          "output_type": "stream",
          "name": "stdout",
          "text": [
            "[-0.71927944  1.68597842  0.31211026 -0.20828425 -1.09608346 -0.80797977\n",
            " -1.08427853  0.99096301  0.38364414  0.08948738 -1.33758189  1.98552794\n",
            "  0.58506141 -0.15955191 -0.64207511 -0.18958672 -0.7518895   0.12594502\n",
            " -0.87062019 -1.06906714  0.93544887 -1.05322723 -0.33876911 -0.85391158\n",
            " -1.19491248  0.18881958 -0.68782375 -0.23172249  0.69445564 -1.6348037\n",
            "  1.73278742 -0.72846005 -1.6759149   1.79672361  0.86957103  0.57774349\n",
            " -0.37274008 -0.38459003  0.36966058 -0.46909922 -1.39973612 -0.64216159\n",
            " -1.25757664  2.04598179  0.13794205  0.14012881  0.25907318 -0.46401154\n",
            "  0.80614282  0.43645662  1.32656481  0.05658084  1.8675105   1.29957912\n",
            "  0.00923734  1.78306762 -2.21658146 -0.31280946 -2.2967383   0.25218889\n",
            " -1.17944769 -0.43337845  1.21407147 -1.31209946 -0.18423636  1.12919902\n",
            " -1.97057161  0.62537411 -1.63684377  2.15845174 -0.29292947 -1.18513794\n",
            " -1.4727128   0.8105451   0.4710376   0.4448476  -0.01895328 -1.65304233\n",
            " -0.5578967  -1.80461406  2.14719565  1.00528505 -1.15175841 -1.48104718\n",
            " -0.92550304 -0.12835397  0.84974196  0.31108039  1.96029897 -0.11673516\n",
            " -0.99752263  1.26724222  0.15974443  0.25324322 -0.12506319 -0.48224198\n",
            "  0.22858122 -0.52914567 -1.67150543 -1.11250961]\n"
          ]
        }
      ]
    },
    {
      "cell_type": "code",
      "source": [
        "from sklearn.tree import DecisionTreeRegressor\n",
        "\n",
        "decision_model = DecisionTreeRegressor(min_samples_leaf = 3).fit(x,y)\n",
        "\n",
        "import matplotlib.pyplot as pyplot\n",
        "\n",
        "x_test = numpy.linspace(-3,3, 1000, endpoint = False).reshape(-1,1)\n",
        "\n",
        "score = decision_model.predict(x_test)\n",
        "\n",
        "pyplot.plot(x_test, score, label = \"Decision Tree\")"
      ],
      "metadata": {
        "colab": {
          "base_uri": "https://localhost:8080/",
          "height": 283
        },
        "id": "qmFuVUX9U8Db",
        "outputId": "237c3a5c-6f76-4510-b0c0-ee8ac2b5438c"
      },
      "execution_count": 5,
      "outputs": [
        {
          "output_type": "execute_result",
          "data": {
            "text/plain": [
              "[<matplotlib.lines.Line2D at 0x7f4675c67130>]"
            ]
          },
          "metadata": {},
          "execution_count": 5
        },
        {
          "output_type": "display_data",
          "data": {
            "text/plain": [
              "<Figure size 432x288 with 1 Axes>"
            ],
            "image/png": "[encoded data removed]"
          },
          "metadata": {
            "needs_background": "light"
          }
        }
      ]
    },
    {
      "cell_type": "code",
      "source": [
        "from sklearn.linear_model import LinearRegression\n",
        "\n",
        "linear_model = LinearRegression().fit(x,y)\n",
        "\n",
        "linear_results = linear_model.predict(x_test)"
      ],
      "metadata": {
        "id": "hUjy_hkmWvf5"
      },
      "execution_count": 8,
      "outputs": []
    },
    {
      "cell_type": "code",
      "source": [
        "pyplot.plot(x_test, score, label = \"Decision Tree\")\n",
        "\n",
        "pyplot.plot(x[:, 0], y, 'o', c='k')\n",
        "\n",
        "pyplot.plot(x_test, linear_results, label = \"Linear Regression\")\n",
        "\n",
        "pyplot.legend()"
      ],
      "metadata": {
        "colab": {
          "base_uri": "https://localhost:8080/",
          "height": 283
        },
        "id": "db0en9RdWbsC",
        "outputId": "46959b9c-3760-4cca-e8ac-e867210b264b"
      },
      "execution_count": 10,
      "outputs": [
        {
          "output_type": "execute_result",
          "data": {
            "text/plain": [
              "<matplotlib.legend.Legend at 0x7f466c6d7100>"
            ]
          },
          "metadata": {},
          "execution_count": 10
        },
        {
          "output_type": "display_data",
          "data": {
            "text/plain": [
              "<Figure size 432x288 with 1 Axes>"
            ],
            "image/png": "[encoded data removed]"
          },
          "metadata": {
            "needs_background": "light"
          }
        }
      ]
    },
    {
      "cell_type": "code",
      "source": [
        "from sklearn.preprocessing import KBinsDiscretizer\n",
        "\n",
        "discretizer = KBinsDiscretizer(n_bins = 10, strategy = 'uniform')\n",
        "\n",
        "discretizer.fit(x)\n",
        "\n",
        "print(discretizer.bin_edges_)"
      ],
      "metadata": {
        "colab": {
          "base_uri": "https://localhost:8080/"
        },
        "id": "NUc0g8MmdI_O",
        "outputId": "fb827959-97ec-49a7-bab8-f076becb304a"
      },
      "execution_count": 11,
      "outputs": [
        {
          "output_type": "stream",
          "name": "stdout",
          "text": [
            "[array([-2.9668673 , -2.37804841, -1.78922951, -1.20041062, -0.61159173,\n",
            "        -0.02277284,  0.56604605,  1.15486494,  1.74368384,  2.33250273,\n",
            "         2.92132162])                                                   ]\n"
          ]
        }
      ]
    },
    {
      "cell_type": "code",
      "source": [
        "x_binned = discretizer.transform(x)\n",
        "print(x_binned)"
      ],
      "metadata": {
        "colab": {
          "base_uri": "https://localhost:8080/"
        },
        "id": "w0JCdJbZdkRJ",
        "outputId": "b2b0923d-13e5-4f29-ff0b-3af68959e9c6"
      },
      "execution_count": 13,
      "outputs": [
        {
          "output_type": "stream",
          "name": "stdout",
          "text": [
            "  (0, 3)\t1.0\n",
            "  (1, 9)\t1.0\n",
            "  (2, 7)\t1.0\n",
            "  (3, 6)\t1.0\n",
            "  (4, 1)\t1.0\n",
            "  (5, 1)\t1.0\n",
            "  (6, 0)\t1.0\n",
            "  (7, 8)\t1.0\n",
            "  (8, 6)\t1.0\n",
            "  (9, 7)\t1.0\n",
            "  (10, 0)\t1.0\n",
            "  (11, 9)\t1.0\n",
            "  (12, 8)\t1.0\n",
            "  (13, 2)\t1.0\n",
            "  (14, 1)\t1.0\n",
            "  (15, 1)\t1.0\n",
            "  (16, 3)\t1.0\n",
            "  (17, 5)\t1.0\n",
            "  (18, 4)\t1.0\n",
            "  (19, 2)\t1.0\n",
            "  (20, 6)\t1.0\n",
            "  (21, 1)\t1.0\n",
            "  (22, 2)\t1.0\n",
            "  (23, 3)\t1.0\n",
            "  (24, 4)\t1.0\n",
            "  :\t:\n",
            "  (75, 7)\t1.0\n",
            "  (76, 7)\t1.0\n",
            "  (77, 0)\t1.0\n",
            "  (78, 3)\t1.0\n",
            "  (79, 1)\t1.0\n",
            "  (80, 8)\t1.0\n",
            "  (81, 6)\t1.0\n",
            "  (82, 3)\t1.0\n",
            "  (83, 0)\t1.0\n",
            "  (84, 3)\t1.0\n",
            "  (85, 3)\t1.0\n",
            "  (86, 7)\t1.0\n",
            "  (87, 6)\t1.0\n",
            "  (88, 8)\t1.0\n",
            "  (89, 4)\t1.0\n",
            "  (90, 1)\t1.0\n",
            "  (91, 7)\t1.0\n",
            "  (92, 7)\t1.0\n",
            "  (93, 5)\t1.0\n",
            "  (94, 7)\t1.0\n",
            "  (95, 4)\t1.0\n",
            "  (96, 5)\t1.0\n",
            "  (97, 4)\t1.0\n",
            "  (98, 0)\t1.0\n",
            "  (99, 1)\t1.0\n"
          ]
        }
      ]
    },
    {
      "cell_type": "code",
      "source": [
        "encoding_discretizer = KBinsDiscretizer(n_bins = 10,\n",
        "                                        strategy = \"uniform\",\n",
        "                                        encode = \"onehot-dense\")\n",
        "\n",
        "encoding_discretizer.fit(x)\n",
        "\n",
        "x_binned = encoding_discretizer.transform(x)\n",
        "\n",
        "print(x_binned)"
      ],
      "metadata": {
        "colab": {
          "base_uri": "https://localhost:8080/"
        },
        "id": "MewKDkYHdx7c",
        "outputId": "42e6ced2-7e6b-4ea6-bfd1-dc668b014c28"
      },
      "execution_count": 15,
      "outputs": [
        {
          "output_type": "stream",
          "name": "stdout",
          "text": [
            "[[0. 0. 0. 1. 0. 0. 0. 0. 0. 0.]\n",
            " [0. 0. 0. 0. 0. 0. 0. 0. 0. 1.]\n",
            " [0. 0. 0. 0. 0. 0. 0. 1. 0. 0.]\n",
            " [0. 0. 0. 0. 0. 0. 1. 0. 0. 0.]\n",
            " [0. 1. 0. 0. 0. 0. 0. 0. 0. 0.]\n",
            " [0. 1. 0. 0. 0. 0. 0. 0. 0. 0.]\n",
            " [1. 0. 0. 0. 0. 0. 0. 0. 0. 0.]\n",
            " [0. 0. 0. 0. 0. 0. 0. 0. 1. 0.]\n",
            " [0. 0. 0. 0. 0. 0. 1. 0. 0. 0.]\n",
            " [0. 0. 0. 0. 0. 0. 0. 1. 0. 0.]\n",
            " [1. 0. 0. 0. 0. 0. 0. 0. 0. 0.]\n",
            " [0. 0. 0. 0. 0. 0. 0. 0. 0. 1.]\n",
            " [0. 0. 0. 0. 0. 0. 0. 0. 1. 0.]\n",
            " [0. 0. 1. 0. 0. 0. 0. 0. 0. 0.]\n",
            " [0. 1. 0. 0. 0. 0. 0. 0. 0. 0.]\n",
            " [0. 1. 0. 0. 0. 0. 0. 0. 0. 0.]\n",
            " [0. 0. 0. 1. 0. 0. 0. 0. 0. 0.]\n",
            " [0. 0. 0. 0. 0. 1. 0. 0. 0. 0.]\n",
            " [0. 0. 0. 0. 1. 0. 0. 0. 0. 0.]\n",
            " [0. 0. 1. 0. 0. 0. 0. 0. 0. 0.]\n",
            " [0. 0. 0. 0. 0. 0. 1. 0. 0. 0.]\n",
            " [0. 1. 0. 0. 0. 0. 0. 0. 0. 0.]\n",
            " [0. 0. 1. 0. 0. 0. 0. 0. 0. 0.]\n",
            " [0. 0. 0. 1. 0. 0. 0. 0. 0. 0.]\n",
            " [0. 0. 0. 0. 1. 0. 0. 0. 0. 0.]\n",
            " [0. 0. 0. 0. 0. 0. 0. 1. 0. 0.]\n",
            " [0. 1. 0. 0. 0. 0. 0. 0. 0. 0.]\n",
            " [0. 0. 0. 0. 0. 1. 0. 0. 0. 0.]\n",
            " [0. 0. 0. 0. 0. 1. 0. 0. 0. 0.]\n",
            " [1. 0. 0. 0. 0. 0. 0. 0. 0. 0.]\n",
            " [0. 0. 0. 0. 0. 0. 1. 0. 0. 0.]\n",
            " [0. 1. 0. 0. 0. 0. 0. 0. 0. 0.]\n",
            " [1. 0. 0. 0. 0. 0. 0. 0. 0. 0.]\n",
            " [0. 0. 0. 0. 0. 0. 0. 0. 0. 1.]\n",
            " [0. 0. 0. 0. 0. 0. 0. 0. 0. 1.]\n",
            " [0. 0. 0. 0. 0. 0. 0. 0. 1. 0.]\n",
            " [0. 0. 0. 1. 0. 0. 0. 0. 0. 0.]\n",
            " [1. 0. 0. 0. 0. 0. 0. 0. 0. 0.]\n",
            " [0. 0. 0. 0. 0. 0. 1. 0. 0. 0.]\n",
            " [0. 0. 0. 0. 1. 0. 0. 0. 0. 0.]\n",
            " [0. 1. 0. 0. 0. 0. 0. 0. 0. 0.]\n",
            " [0. 0. 0. 0. 1. 0. 0. 0. 0. 0.]\n",
            " [1. 0. 0. 0. 0. 0. 0. 0. 0. 0.]\n",
            " [0. 0. 0. 0. 0. 0. 0. 0. 0. 1.]\n",
            " [0. 0. 1. 0. 0. 0. 0. 0. 0. 0.]\n",
            " [0. 0. 0. 0. 0. 0. 1. 0. 0. 0.]\n",
            " [0. 0. 0. 1. 0. 0. 0. 0. 0. 0.]\n",
            " [0. 0. 0. 0. 0. 1. 0. 0. 0. 0.]\n",
            " [0. 0. 0. 0. 0. 1. 0. 0. 0. 0.]\n",
            " [0. 1. 0. 0. 0. 0. 0. 0. 0. 0.]\n",
            " [0. 0. 0. 0. 0. 0. 0. 0. 0. 1.]\n",
            " [0. 0. 0. 0. 0. 0. 0. 1. 0. 0.]\n",
            " [0. 0. 0. 0. 0. 0. 0. 0. 0. 1.]\n",
            " [0. 0. 0. 0. 0. 0. 0. 0. 0. 1.]\n",
            " [0. 0. 0. 0. 0. 0. 1. 0. 0. 0.]\n",
            " [0. 0. 0. 0. 0. 0. 0. 0. 0. 1.]\n",
            " [1. 0. 0. 0. 0. 0. 0. 0. 0. 0.]\n",
            " [0. 1. 0. 0. 0. 0. 0. 0. 0. 0.]\n",
            " [1. 0. 0. 0. 0. 0. 0. 0. 0. 0.]\n",
            " [0. 0. 0. 1. 0. 0. 0. 0. 0. 0.]\n",
            " [0. 0. 0. 1. 0. 0. 0. 0. 0. 0.]\n",
            " [0. 0. 1. 0. 0. 0. 0. 0. 0. 0.]\n",
            " [0. 0. 0. 0. 0. 0. 0. 0. 1. 0.]\n",
            " [0. 0. 0. 1. 0. 0. 0. 0. 0. 0.]\n",
            " [0. 0. 1. 0. 0. 0. 0. 0. 0. 0.]\n",
            " [0. 0. 0. 0. 0. 1. 0. 0. 0. 0.]\n",
            " [0. 1. 0. 0. 0. 0. 0. 0. 0. 0.]\n",
            " [0. 0. 0. 0. 0. 0. 0. 0. 1. 0.]\n",
            " [1. 0. 0. 0. 0. 0. 0. 0. 0. 0.]\n",
            " [0. 0. 0. 0. 0. 0. 0. 0. 0. 1.]\n",
            " [0. 0. 0. 0. 0. 0. 0. 1. 0. 0.]\n",
            " [0. 1. 0. 0. 0. 0. 0. 0. 0. 0.]\n",
            " [1. 0. 0. 0. 0. 0. 0. 0. 0. 0.]\n",
            " [0. 0. 0. 0. 0. 0. 0. 0. 1. 0.]\n",
            " [0. 0. 0. 0. 0. 0. 0. 1. 0. 0.]\n",
            " [0. 0. 0. 0. 0. 0. 0. 1. 0. 0.]\n",
            " [0. 0. 0. 0. 0. 0. 0. 1. 0. 0.]\n",
            " [1. 0. 0. 0. 0. 0. 0. 0. 0. 0.]\n",
            " [0. 0. 0. 1. 0. 0. 0. 0. 0. 0.]\n",
            " [0. 1. 0. 0. 0. 0. 0. 0. 0. 0.]\n",
            " [0. 0. 0. 0. 0. 0. 0. 0. 1. 0.]\n",
            " [0. 0. 0. 0. 0. 0. 1. 0. 0. 0.]\n",
            " [0. 0. 0. 1. 0. 0. 0. 0. 0. 0.]\n",
            " [1. 0. 0. 0. 0. 0. 0. 0. 0. 0.]\n",
            " [0. 0. 0. 1. 0. 0. 0. 0. 0. 0.]\n",
            " [0. 0. 0. 1. 0. 0. 0. 0. 0. 0.]\n",
            " [0. 0. 0. 0. 0. 0. 0. 1. 0. 0.]\n",
            " [0. 0. 0. 0. 0. 0. 1. 0. 0. 0.]\n",
            " [0. 0. 0. 0. 0. 0. 0. 0. 1. 0.]\n",
            " [0. 0. 0. 0. 1. 0. 0. 0. 0. 0.]\n",
            " [0. 1. 0. 0. 0. 0. 0. 0. 0. 0.]\n",
            " [0. 0. 0. 0. 0. 0. 0. 1. 0. 0.]\n",
            " [0. 0. 0. 0. 0. 0. 0. 1. 0. 0.]\n",
            " [0. 0. 0. 0. 0. 1. 0. 0. 0. 0.]\n",
            " [0. 0. 0. 0. 0. 0. 0. 1. 0. 0.]\n",
            " [0. 0. 0. 0. 1. 0. 0. 0. 0. 0.]\n",
            " [0. 0. 0. 0. 0. 1. 0. 0. 0. 0.]\n",
            " [0. 0. 0. 0. 1. 0. 0. 0. 0. 0.]\n",
            " [1. 0. 0. 0. 0. 0. 0. 0. 0. 0.]\n",
            " [0. 1. 0. 0. 0. 0. 0. 0. 0. 0.]]\n"
          ]
        }
      ]
    },
    {
      "cell_type": "markdown",
      "source": [
        "#Compare Binned Regression Models"
      ],
      "metadata": {
        "id": "dng37yRSeYZr"
      }
    },
    {
      "cell_type": "code",
      "source": [
        "x_test_binned = encoding_discretizer.transform(x_test)\n",
        "model = LinearRegression().fit(x_binned, y)\n",
        "decision_model = DecisionTreeRegressor(min_samples_split = 3).fit(x_binned, y)\n"
      ],
      "metadata": {
        "id": "zLqbnFXyeabz"
      },
      "execution_count": 16,
      "outputs": []
    },
    {
      "cell_type": "code",
      "source": [
        "linear_results = model.predict(x_test_binned)\n",
        "decision_results = decision_model.predict(x_test_binned)"
      ],
      "metadata": {
        "id": "nWf2CpQ8fAfR"
      },
      "execution_count": 18,
      "outputs": []
    },
    {
      "cell_type": "code",
      "source": [
        "pyplot.plot(x[:, 0], y, 'o', c='k')\n",
        "pyplot.plot(x_test, linear_results, label = \"Linear Results\")\n",
        "pyplot.plot(x_test, decision_results, label = \"Decision Results\")\n",
        "pyplot.legend()\n",
        "#note that linear results and decision results are exactly the same. remove one of the plots to confirm. "
      ],
      "metadata": {
        "colab": {
          "base_uri": "https://localhost:8080/",
          "height": 283
        },
        "id": "YOfQPkkqezc6",
        "outputId": "3c2e09be-1d8c-46aa-e04e-7fbd1971d580"
      },
      "execution_count": 20,
      "outputs": [
        {
          "output_type": "execute_result",
          "data": {
            "text/plain": [
              "<matplotlib.legend.Legend at 0x7f466a563e50>"
            ]
          },
          "metadata": {},
          "execution_count": 20
        },
        {
          "output_type": "display_data",
          "data": {
            "text/plain": [
              "<Figure size 432x288 with 1 Axes>"
            ],
            "image/png": "[encoded data removed]"
          },
          "metadata": {
            "needs_background": "light"
          }
        }
      ]
    }
  ]
}