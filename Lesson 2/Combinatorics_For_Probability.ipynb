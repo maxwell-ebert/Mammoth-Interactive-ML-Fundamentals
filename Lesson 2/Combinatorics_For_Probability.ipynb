{
  "nbformat": 4,
  "nbformat_minor": 0,
  "metadata": {
    "colab": {
      "provenance": []
    },
    "kernelspec": {
      "name": "python3",
      "display_name": "Python 3"
    },
    "language_info": {
      "name": "python"
    }
  },
  "cells": [
    {
      "cell_type": "markdown",
      "source": [
        "#**Combinatorics For Probability**"
      ],
      "metadata": {
        "id": "ggS3jXBgEFco"
      }
    },
    {
      "cell_type": "code",
      "execution_count": 2,
      "metadata": {
        "id": "AKZsCqRLD-bp"
      },
      "outputs": [],
      "source": [
        "from math import factorial\n",
        "def calculate_probability(n,k):\n",
        "    n_choose_k= factorial(n)/(factorial(k)*factorial(n-k))\n",
        "  # n_choose_k gives us numerator for our P(event) equation (eg number of outcomes)\n",
        "  # P(event) = (# of outcomes of event)/(# of outcomes in  Ω) where  Ω = sample space\n",
        "  # n = total coin flips\n",
        "  # k = outcomes sought (remember for binary processes, denominator is 2^n where n = number of outcomes in event)\n",
        "    probability = n_choose_k / 2**n\n",
        "    return probability "
      ]
    },
    {
      "cell_type": "code",
      "source": [
        "number_of_coin_flips = 5\n",
        "\n",
        "number_of_head_flips = 0\n",
        "\n",
        "calculate_probability(number_of_coin_flips,number_of_head_flips)"
      ],
      "metadata": {
        "colab": {
          "base_uri": "https://localhost:8080/"
        },
        "id": "pTAYO7S5FNGp",
        "outputId": "ee83f24c-f678-43b4-8f43-b0fc3a8b8be1"
      },
      "execution_count": 3,
      "outputs": [
        {
          "output_type": "execute_result",
          "data": {
            "text/plain": [
              "0.03125"
            ]
          },
          "metadata": {},
          "execution_count": 3
        }
      ]
    },
    {
      "cell_type": "code",
      "source": [
        "calculate_probability(number_of_coin_flips, 1)"
      ],
      "metadata": {
        "colab": {
          "base_uri": "https://localhost:8080/"
        },
        "id": "ltp2cP8_GUW8",
        "outputId": "157a583f-305f-453d-b0c5-0ea2a68a7475"
      },
      "execution_count": 4,
      "outputs": [
        {
          "output_type": "execute_result",
          "data": {
            "text/plain": [
              "0.15625"
            ]
          },
          "metadata": {},
          "execution_count": 4
        }
      ]
    },
    {
      "cell_type": "code",
      "source": [
        "calculate_probability(number_of_coin_flips, 2)"
      ],
      "metadata": {
        "colab": {
          "base_uri": "https://localhost:8080/"
        },
        "id": "K55fFU_wMa-E",
        "outputId": "8acb6de2-39c3-4fc5-b377-ea0d4d2c7bc6"
      },
      "execution_count": 5,
      "outputs": [
        {
          "output_type": "execute_result",
          "data": {
            "text/plain": [
              "0.3125"
            ]
          },
          "metadata": {},
          "execution_count": 5
        }
      ]
    },
    {
      "cell_type": "code",
      "source": [
        "calculate_probability(number_of_coin_flips, 3)"
      ],
      "metadata": {
        "colab": {
          "base_uri": "https://localhost:8080/"
        },
        "id": "veyA1613Mmay",
        "outputId": "3f0fc6c5-93bc-4b89-ec34-0d6c8b1c79ff"
      },
      "execution_count": 6,
      "outputs": [
        {
          "output_type": "execute_result",
          "data": {
            "text/plain": [
              "0.3125"
            ]
          },
          "metadata": {},
          "execution_count": 6
        }
      ]
    },
    {
      "cell_type": "code",
      "source": [
        "calculate_probability(number_of_coin_flips,4)"
      ],
      "metadata": {
        "colab": {
          "base_uri": "https://localhost:8080/"
        },
        "id": "tH8P6kcVMqK6",
        "outputId": "ce03af21-9c24-467c-875e-2b1bf5d5337c"
      },
      "execution_count": 7,
      "outputs": [
        {
          "output_type": "execute_result",
          "data": {
            "text/plain": [
              "0.15625"
            ]
          },
          "metadata": {},
          "execution_count": 7
        }
      ]
    },
    {
      "cell_type": "code",
      "source": [
        "calculate_probability(number_of_coin_flips,5)"
      ],
      "metadata": {
        "colab": {
          "base_uri": "https://localhost:8080/"
        },
        "id": "0Uyw8caAE-8c",
        "outputId": "d8aed687-3c6c-4c95-f59a-d526c1943f79"
      },
      "execution_count": 8,
      "outputs": [
        {
          "output_type": "execute_result",
          "data": {
            "text/plain": [
              "0.03125"
            ]
          },
          "metadata": {},
          "execution_count": 8
        }
      ]
    }
  ]
}