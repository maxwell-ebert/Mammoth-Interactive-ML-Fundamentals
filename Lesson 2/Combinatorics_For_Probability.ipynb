{
  "nbformat": 4,
  "nbformat_minor": 0,
  "metadata": {
    "colab": {
      "provenance": []
    },
    "kernelspec": {
      "name": "python3",
      "display_name": "Python 3"
    },
    "language_info": {
      "name": "python"
    }
  },
  "cells": [
    {
      "cell_type": "markdown",
      "source": [
        "#**Combinatorics For Probability**"
      ],
      "metadata": {
        "id": "ggS3jXBgEFco"
      }
    },
    {
      "cell_type": "code",
      "execution_count": 3,
      "metadata": {
        "id": "AKZsCqRLD-bp"
      },
      "outputs": [],
      "source": [
        "from math import factorial\n",
        "def calculate_probability(n,k):\n",
        "    n_choose_k= factorial(n)/(factorial(k)*factorial(n-k))\n",
        "  # n_choose_k gives us numerator for our P(event) equation (eg number of outcomes)\n",
        "  # P(event) = (# of outcomes of event)/(# of outcomes in  Ω) where  Ω = sample space\n",
        "  # n = total coin flips\n",
        "  # k = outcomes sought (remember for binary processes, denominator is 2^n where n = number of outcomes in event)\n",
        "    probability = n_choose_k / 2**n\n",
        "    return probability "
      ]
    },
    {
      "cell_type": "code",
      "source": [
        "number_of_coin_flips = 5\n",
        "\n",
        "number_of_head_flips = 0\n",
        "\n",
        "calculate_probability(number_of_coin_flips,number_of_head_flips)"
      ],
      "metadata": {
        "colab": {
          "base_uri": "https://localhost:8080/"
        },
        "id": "pTAYO7S5FNGp",
        "outputId": "342d9c33-9bca-40ab-9536-3e02a57ce579"
      },
      "execution_count": 4,
      "outputs": [
        {
          "output_type": "execute_result",
          "data": {
            "text/plain": [
              "0.03125"
            ]
          },
          "metadata": {},
          "execution_count": 4
        }
      ]
    },
    {
      "cell_type": "code",
      "source": [
        "calculate_probability(number_of_coin_flips, 1)"
      ],
      "metadata": {
        "colab": {
          "base_uri": "https://localhost:8080/"
        },
        "id": "ltp2cP8_GUW8",
        "outputId": "da90241a-fab1-4a20-c94e-ed22808425f6"
      },
      "execution_count": 5,
      "outputs": [
        {
          "output_type": "execute_result",
          "data": {
            "text/plain": [
              "0.15625"
            ]
          },
          "metadata": {},
          "execution_count": 5
        }
      ]
    },
    {
      "cell_type": "code",
      "source": [
        "calculate_probability(number_of_coin_flips, 2)"
      ],
      "metadata": {
        "colab": {
          "base_uri": "https://localhost:8080/"
        },
        "id": "K55fFU_wMa-E",
        "outputId": "caacd8c2-5686-4bd3-9656-cd9deec05d05"
      },
      "execution_count": 6,
      "outputs": [
        {
          "output_type": "execute_result",
          "data": {
            "text/plain": [
              "0.3125"
            ]
          },
          "metadata": {},
          "execution_count": 6
        }
      ]
    },
    {
      "cell_type": "code",
      "source": [
        "calculate_probability(number_of_coin_flips, 3)"
      ],
      "metadata": {
        "colab": {
          "base_uri": "https://localhost:8080/"
        },
        "id": "veyA1613Mmay",
        "outputId": "bc5bd871-9a92-4e2e-ee09-32e5f4ac18fe"
      },
      "execution_count": 7,
      "outputs": [
        {
          "output_type": "execute_result",
          "data": {
            "text/plain": [
              "0.3125"
            ]
          },
          "metadata": {},
          "execution_count": 7
        }
      ]
    },
    {
      "cell_type": "code",
      "source": [],
      "metadata": {
        "id": "tH8P6kcVMqK6"
      },
      "execution_count": null,
      "outputs": []
    }
  ]
}