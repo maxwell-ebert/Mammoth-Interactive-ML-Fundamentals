{
  "nbformat": 4,
  "nbformat_minor": 0,
  "metadata": {
    "colab": {
      "name": "02 Combinatorics for Probability.ipynb",
      "provenance": [],
      "collapsed_sections": []
    },
    "kernelspec": {
      "name": "python3",
      "display_name": "Python 3"
    },
    "language_info": {
      "name": "python"
    }
  },
  "cells": [
    {
      "cell_type": "markdown",
      "source": [
        "#  Combinatorics for Probability"
      ],
      "metadata": {
        "id": "z5mSmqj_6qqW"
      }
    },
    {
      "cell_type": "markdown",
      "source": [
        "https://colab.research.google.com"
      ],
      "metadata": {
        "id": "BHM_pc5Z6r6m"
      }
    },
    {
      "cell_type": "code",
      "execution_count": 6,
      "metadata": {
        "id": "FrgsarSv6qC4"
      },
      "outputs": [],
      "source": [
        "from math import factorial \n",
        "\n",
        "def calculate_probability(n, k):\n",
        "\n",
        "  n_choose_k = factorial(n)/(factorial(k)*factorial(n-k)) \n",
        "\n",
        "  probability = n_choose_k / 2**n\n",
        "\n",
        "  return probability"
      ]
    },
    {
      "cell_type": "code",
      "source": [
        "number_of_coin_flips = 5 \n",
        "\n",
        "number_of_head_flips = 0\n",
        "\n",
        "calculate_probability(number_of_coin_flips, number_of_head_flips)"
      ],
      "metadata": {
        "colab": {
          "base_uri": "https://localhost:8080/"
        },
        "id": "TxH7fRnV7oHJ",
        "outputId": "a24dc86a-c547-4f70-d6a4-c17d9bc59e24"
      },
      "execution_count": 7,
      "outputs": [
        {
          "output_type": "execute_result",
          "data": {
            "text/plain": [
              "0.03125"
            ]
          },
          "metadata": {},
          "execution_count": 7
        }
      ]
    },
    {
      "cell_type": "code",
      "source": [
        "calculate_probability(number_of_coin_flips, 1)"
      ],
      "metadata": {
        "colab": {
          "base_uri": "https://localhost:8080/"
        },
        "id": "3rBEG9IA71wA",
        "outputId": "95f736b5-b582-4899-ec81-d4564d6ae13e"
      },
      "execution_count": 8,
      "outputs": [
        {
          "output_type": "execute_result",
          "data": {
            "text/plain": [
              "0.15625"
            ]
          },
          "metadata": {},
          "execution_count": 8
        }
      ]
    },
    {
      "cell_type": "code",
      "source": [
        "calculate_probability(number_of_coin_flips, 2)"
      ],
      "metadata": {
        "colab": {
          "base_uri": "https://localhost:8080/"
        },
        "id": "esBGN5os75Ro",
        "outputId": "919ad2d8-ef91-4c45-e911-b52d6181c585"
      },
      "execution_count": 9,
      "outputs": [
        {
          "output_type": "execute_result",
          "data": {
            "text/plain": [
              "0.3125"
            ]
          },
          "metadata": {},
          "execution_count": 9
        }
      ]
    },
    {
      "cell_type": "code",
      "source": [
        "calculate_probability(number_of_coin_flips, 3)"
      ],
      "metadata": {
        "colab": {
          "base_uri": "https://localhost:8080/"
        },
        "id": "_YxPeYjw77tw",
        "outputId": "caa97de6-121a-4c26-dc62-993ed63b0f48"
      },
      "execution_count": 10,
      "outputs": [
        {
          "output_type": "execute_result",
          "data": {
            "text/plain": [
              "0.3125"
            ]
          },
          "metadata": {},
          "execution_count": 10
        }
      ]
    },
    {
      "cell_type": "code",
      "source": [
        "calculate_probability(number_of_coin_flips, 4)"
      ],
      "metadata": {
        "colab": {
          "base_uri": "https://localhost:8080/"
        },
        "id": "PXmnFPis7-8g",
        "outputId": "9a8cf78f-91b7-49ee-fa9c-f1b91fc4c8f4"
      },
      "execution_count": 11,
      "outputs": [
        {
          "output_type": "execute_result",
          "data": {
            "text/plain": [
              "0.15625"
            ]
          },
          "metadata": {},
          "execution_count": 11
        }
      ]
    },
    {
      "cell_type": "code",
      "source": [
        "calculate_probability(number_of_coin_flips, 5)"
      ],
      "metadata": {
        "colab": {
          "base_uri": "https://localhost:8080/"
        },
        "id": "Nl9Z_PAg8Hv4",
        "outputId": "4cdcd2a4-233e-438b-d9b3-5611c41a3e48"
      },
      "execution_count": 12,
      "outputs": [
        {
          "output_type": "execute_result",
          "data": {
            "text/plain": [
              "0.03125"
            ]
          },
          "metadata": {},
          "execution_count": 12
        }
      ]
    }
  ]
}