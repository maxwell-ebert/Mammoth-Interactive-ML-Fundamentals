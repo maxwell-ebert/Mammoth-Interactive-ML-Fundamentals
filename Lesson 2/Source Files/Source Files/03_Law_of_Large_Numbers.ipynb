{
  "nbformat": 4,
  "nbformat_minor": 0,
  "metadata": {
    "colab": {
      "name": "03 Law of Large Numbers.ipynb",
      "provenance": []
    },
    "kernelspec": {
      "name": "python3",
      "display_name": "Python 3"
    },
    "language_info": {
      "name": "python"
    }
  },
  "cells": [
    {
      "cell_type": "markdown",
      "source": [
        "#  Law of Large Numbers"
      ],
      "metadata": {
        "id": "T1eKeRJW-xKI"
      }
    },
    {
      "cell_type": "markdown",
      "source": [
        "https://colab.research.google.com/"
      ],
      "metadata": {
        "id": "RZFdY9ZR-yBp"
      }
    },
    {
      "cell_type": "code",
      "execution_count": 4,
      "metadata": {
        "colab": {
          "base_uri": "https://localhost:8080/"
        },
        "id": "eLikrX_q-wwm",
        "outputId": "7b1bfba3-f9cf-4a3c-b267-701bd701ac85"
      },
      "outputs": [
        {
          "output_type": "stream",
          "name": "stdout",
          "text": [
            "[1.         0.75       0.16666667 0.5        0.58333333 0.5\n",
            " 0.5        0.5        0.55       0.375      0.609375   0.5625\n",
            " 0.4609375  0.50585938 0.47949219 0.49169922]\n"
          ]
        }
      ],
      "source": [
        "import numpy\n",
        "\n",
        "list_of_coin_flips = numpy.array([2, 4, 6, 8, 12, 14, 16, 18, 20, 32, 64,\n",
        "                                  128, 256, 512, 1024, 2048])\n",
        "\n",
        "heads = [numpy.random.binomial(n, 0.5) for n in list_of_coin_flips]\n",
        "\n",
        "heads_ratio = heads / list_of_coin_flips \n",
        "\n",
        "print(heads_ratio)"
      ]
    },
    {
      "cell_type": "code",
      "source": [
        "import matplotlib.pyplot as pyplot \n",
        "\n",
        "pyplot.figure(figsize = (10, 5))\n",
        "\n",
        "pyplot.rcParams.update({'font.size': 18})\n",
        "\n",
        "pyplot.scatter(list_of_coin_flips, heads_ratio)\n",
        "\n",
        "pyplot.ylabel('Ratio of Heads')\n",
        "\n",
        "pyplot.xlabel('# Coin Flips ')\n",
        "\n",
        "pyplot.axhline(0.5)"
      ],
      "metadata": {
        "colab": {
          "base_uri": "https://localhost:8080/",
          "height": 368
        },
        "id": "T-7VDOxs_T0D",
        "outputId": "e3788a02-1b6e-41d5-c824-c5ee2b633414"
      },
      "execution_count": 9,
      "outputs": [
        {
          "output_type": "execute_result",
          "data": {
            "text/plain": [
              "<matplotlib.lines.Line2D at 0x7fe022a26f90>"
            ]
          },
          "metadata": {},
          "execution_count": 9
        },
        {
          "output_type": "display_data",
          "data": {
            "text/plain": [
              "<Figure size 720x360 with 1 Axes>"
            ],
            "image/png": "[encoded data removed]"
          },
          "metadata": {
            "needs_background": "light"
          }
        }
      ]
    }
  ]
}