{
  "nbformat": 4,
  "nbformat_minor": 0,
  "metadata": {
    "colab": {
      "provenance": []
    },
    "kernelspec": {
      "name": "python3",
      "display_name": "Python 3"
    },
    "language_info": {
      "name": "python"
    }
  },
  "cells": [
    {
      "cell_type": "markdown",
      "source": [
        "#***Law of Large Numbers***"
      ],
      "metadata": {
        "id": "raK-vELRGOpt"
      }
    },
    {
      "cell_type": "code",
      "execution_count": 6,
      "metadata": {
        "colab": {
          "base_uri": "https://localhost:8080/"
        },
        "id": "UhJKno9HGK5B",
        "outputId": "8ce4fc69-1938-49a4-e67a-0b0ba5fe4fb5"
      },
      "outputs": [
        {
          "output_type": "stream",
          "name": "stdout",
          "text": [
            "[1.         0.5        0.5        0.58333333 0.57142857 0.625\n",
            " 0.5        0.53125    0.5        0.484375   0.5        0.54296875\n",
            " 0.49902344 0.50292969]\n"
          ]
        }
      ],
      "source": [
        "import numpy\n",
        "\n",
        "list_of_coin_flips = numpy.array([2,4,8,12,14,16, 20,32, 64, 128, 256, 512,1024,2048])\n",
        "\n",
        "heads = [numpy.random.binomial(n, 0.5) for n in list_of_coin_flips]\n",
        "\n",
        "heads_ratio = heads / list_of_coin_flips\n",
        "\n",
        "print(heads_ratio)"
      ]
    },
    {
      "cell_type": "markdown",
      "source": [
        "#Visualizing above results"
      ],
      "metadata": {
        "id": "rjGUkLpJHNzl"
      }
    },
    {
      "cell_type": "code",
      "source": [
        "import matplotlib.pyplot as pyplot\n",
        "\n",
        "pyplot.figure(figsize = (10,5))\n",
        "\n",
        "pyplot.rcParams.update({'font.size': 18})\n",
        "\n",
        "pyplot.scatter(list_of_coin_flips, heads_ratio)\n",
        "\n",
        "pyplot.ylabel('Ratio of Heads')\n",
        "\n",
        "pyplot.xlabel('# Coin Flips')\n",
        "\n",
        "pyplot.axhline(0.5)"
      ],
      "metadata": {
        "colab": {
          "base_uri": "https://localhost:8080/",
          "height": 368
        },
        "id": "wQqS4DPrHQ-b",
        "outputId": "f44bac09-54b0-4a3d-d10e-44e965aa0b75"
      },
      "execution_count": 11,
      "outputs": [
        {
          "output_type": "execute_result",
          "data": {
            "text/plain": [
              "<matplotlib.lines.Line2D at 0x7f76959f3dc0>"
            ]
          },
          "metadata": {},
          "execution_count": 11
        },
        {
          "output_type": "display_data",
          "data": {
            "text/plain": [
              "<Figure size 720x360 with 1 Axes>"
            ],
            "image/png": "[encoded data removed]"
          },
          "metadata": {
            "needs_background": "light"
          }
        }
      ]
    }
  ]
}